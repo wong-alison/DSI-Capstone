{
 "cells": [
  {
   "cell_type": "code",
   "execution_count": 2,
   "metadata": {},
   "outputs": [],
   "source": [
    "import pandas as pd\n",
    "import numpy as np\n",
    "import seaborn as sns\n",
    "import matplotlib.pyplot as plt\n",
    "\n"
   ]
  },
  {
   "cell_type": "code",
   "execution_count": null,
   "metadata": {},
   "outputs": [],
   "source": [
    "#I only had 16 cols in the first app_id scrape, some rows have 18 so need to specify cols to retrieve"
   ]
  },
  {
   "cell_type": "code",
   "execution_count": null,
   "metadata": {},
   "outputs": [],
   "source": []
  },
  {
   "cell_type": "code",
   "execution_count": 16,
   "metadata": {},
   "outputs": [],
   "source": [
    "columns = ['app_id', 'dlc', 'recommendationid', 'author', 'language', 'review', \n",
    "           'timestamp_created', 'timestamp_updated', 'voted_up', 'votes_up', \n",
    "           'votes_funny', 'weighted_vote_score', 'comment_count', 'steam_purchase', \n",
    "           'received_for_free', 'written_during_early_access']"
   ]
  },
  {
   "cell_type": "code",
   "execution_count": 18,
   "metadata": {},
   "outputs": [],
   "source": [
    "dlc_df = pd.read_csv('/Users/alison/Desktop/GA/DSI15-lessons/project/project-capstone/Capstone Steam/data/download/steam_dlc_reviews.csv', \n",
    "                     usecols = columns , encoding= 'utf-8')"
   ]
  },
  {
   "cell_type": "code",
   "execution_count": 19,
   "metadata": {},
   "outputs": [
    {
     "data": {
      "text/plain": [
       "(140554, 16)"
      ]
     },
     "execution_count": 19,
     "metadata": {},
     "output_type": "execute_result"
    }
   ],
   "source": [
    "dlc_df.shape"
   ]
  },
  {
   "cell_type": "code",
   "execution_count": 20,
   "metadata": {},
   "outputs": [
    {
     "data": {
      "text/plain": [
       "92164"
      ]
     },
     "execution_count": 20,
     "metadata": {},
     "output_type": "execute_result"
    }
   ],
   "source": [
    "dlc_df.duplicated().sum()"
   ]
  },
  {
   "cell_type": "code",
   "execution_count": 21,
   "metadata": {},
   "outputs": [],
   "source": [
    "dlc_df.drop_duplicates(keep='first', inplace=True)"
   ]
  },
  {
   "cell_type": "code",
   "execution_count": 22,
   "metadata": {},
   "outputs": [
    {
     "data": {
      "text/plain": [
       "(48390, 16)"
      ]
     },
     "execution_count": 22,
     "metadata": {},
     "output_type": "execute_result"
    }
   ],
   "source": [
    "dlc_df.shape"
   ]
  },
  {
   "cell_type": "code",
   "execution_count": 23,
   "metadata": {},
   "outputs": [
    {
     "data": {
      "text/plain": [
       "247303    115\n",
       "394320    112\n",
       "213780    112\n",
       "327830    112\n",
       "426321    111\n",
       "         ... \n",
       "219097      1\n",
       "348090      1\n",
       "307825      1\n",
       "420490      1\n",
       "574670      1\n",
       "Name: app_id, Length: 5888, dtype: int64"
      ]
     },
     "execution_count": 23,
     "metadata": {},
     "output_type": "execute_result"
    }
   ],
   "source": [
    "dlc_df.app_id.value_counts()"
   ]
  },
  {
   "cell_type": "code",
   "execution_count": 24,
   "metadata": {},
   "outputs": [
    {
     "data": {
      "text/plain": [
       "app_id                          0\n",
       "dlc                             0\n",
       "recommendationid                0\n",
       "author                          0\n",
       "language                        0\n",
       "review                         31\n",
       "timestamp_created               0\n",
       "timestamp_updated               0\n",
       "voted_up                        0\n",
       "votes_up                        0\n",
       "votes_funny                     0\n",
       "weighted_vote_score             0\n",
       "comment_count                   0\n",
       "steam_purchase                  0\n",
       "received_for_free               0\n",
       "written_during_early_access     0\n",
       "dtype: int64"
      ]
     },
     "execution_count": 24,
     "metadata": {},
     "output_type": "execute_result"
    }
   ],
   "source": [
    "dlc_df.isnull().sum()"
   ]
  },
  {
   "cell_type": "code",
   "execution_count": 25,
   "metadata": {},
   "outputs": [],
   "source": [
    "dlc_df.reset_index(drop=True, inplace=True)"
   ]
  },
  {
   "cell_type": "code",
   "execution_count": 26,
   "metadata": {},
   "outputs": [
    {
     "data": {
      "text/html": [
       "<div>\n",
       "<style scoped>\n",
       "    .dataframe tbody tr th:only-of-type {\n",
       "        vertical-align: middle;\n",
       "    }\n",
       "\n",
       "    .dataframe tbody tr th {\n",
       "        vertical-align: top;\n",
       "    }\n",
       "\n",
       "    .dataframe thead th {\n",
       "        text-align: right;\n",
       "    }\n",
       "</style>\n",
       "<table border=\"1\" class=\"dataframe\">\n",
       "  <thead>\n",
       "    <tr style=\"text-align: right;\">\n",
       "      <th></th>\n",
       "      <th>app_id</th>\n",
       "      <th>dlc</th>\n",
       "      <th>recommendationid</th>\n",
       "      <th>author</th>\n",
       "      <th>language</th>\n",
       "      <th>review</th>\n",
       "      <th>timestamp_created</th>\n",
       "      <th>timestamp_updated</th>\n",
       "      <th>voted_up</th>\n",
       "      <th>votes_up</th>\n",
       "      <th>votes_funny</th>\n",
       "      <th>weighted_vote_score</th>\n",
       "      <th>comment_count</th>\n",
       "      <th>steam_purchase</th>\n",
       "      <th>received_for_free</th>\n",
       "      <th>written_during_early_access</th>\n",
       "    </tr>\n",
       "  </thead>\n",
       "  <tbody>\n",
       "    <tr>\n",
       "      <th>0</th>\n",
       "      <td>1256</td>\n",
       "      <td>1</td>\n",
       "      <td>23698284</td>\n",
       "      <td>{'steamid': '76561197963558222', 'num_games_ow...</td>\n",
       "      <td>english</td>\n",
       "      <td>I got this back in 2010 and it was around $2, ...</td>\n",
       "      <td>1466566487</td>\n",
       "      <td>1466566487</td>\n",
       "      <td>False</td>\n",
       "      <td>51</td>\n",
       "      <td>1</td>\n",
       "      <td>0.781742</td>\n",
       "      <td>3</td>\n",
       "      <td>True</td>\n",
       "      <td>False</td>\n",
       "      <td>False</td>\n",
       "    </tr>\n",
       "    <tr>\n",
       "      <th>1</th>\n",
       "      <td>1256</td>\n",
       "      <td>1</td>\n",
       "      <td>13871472</td>\n",
       "      <td>{'steamid': '76561198044217796', 'num_games_ow...</td>\n",
       "      <td>english</td>\n",
       "      <td>DJ Scully nuff said.</td>\n",
       "      <td>1420584436</td>\n",
       "      <td>1420584436</td>\n",
       "      <td>True</td>\n",
       "      <td>23</td>\n",
       "      <td>4</td>\n",
       "      <td>0.707484</td>\n",
       "      <td>0</td>\n",
       "      <td>True</td>\n",
       "      <td>False</td>\n",
       "      <td>False</td>\n",
       "    </tr>\n",
       "    <tr>\n",
       "      <th>2</th>\n",
       "      <td>1256</td>\n",
       "      <td>1</td>\n",
       "      <td>2722792</td>\n",
       "      <td>{'steamid': '76561198011647032', 'num_games_ow...</td>\n",
       "      <td>english</td>\n",
       "      <td>These Killing Floor characters really adds to ...</td>\n",
       "      <td>1323402878</td>\n",
       "      <td>1323402878</td>\n",
       "      <td>True</td>\n",
       "      <td>22</td>\n",
       "      <td>2</td>\n",
       "      <td>0.659986</td>\n",
       "      <td>0</td>\n",
       "      <td>True</td>\n",
       "      <td>False</td>\n",
       "      <td>False</td>\n",
       "    </tr>\n",
       "    <tr>\n",
       "      <th>3</th>\n",
       "      <td>1256</td>\n",
       "      <td>1</td>\n",
       "      <td>15154600</td>\n",
       "      <td>{'steamid': '76561198023430257', 'num_games_ow...</td>\n",
       "      <td>english</td>\n",
       "      <td>Guy in a HaZmat suit... cool\\nSome guy with so...</td>\n",
       "      <td>1427894740</td>\n",
       "      <td>1427894740</td>\n",
       "      <td>True</td>\n",
       "      <td>7</td>\n",
       "      <td>10</td>\n",
       "      <td>0.593850</td>\n",
       "      <td>0</td>\n",
       "      <td>True</td>\n",
       "      <td>False</td>\n",
       "      <td>False</td>\n",
       "    </tr>\n",
       "    <tr>\n",
       "      <th>4</th>\n",
       "      <td>1256</td>\n",
       "      <td>1</td>\n",
       "      <td>640873</td>\n",
       "      <td>{'steamid': '76561197973951600', 'num_games_ow...</td>\n",
       "      <td>english</td>\n",
       "      <td>This DLC has the best looking character models...</td>\n",
       "      <td>1292376412</td>\n",
       "      <td>1292376412</td>\n",
       "      <td>True</td>\n",
       "      <td>9</td>\n",
       "      <td>0</td>\n",
       "      <td>0.591672</td>\n",
       "      <td>0</td>\n",
       "      <td>True</td>\n",
       "      <td>False</td>\n",
       "      <td>False</td>\n",
       "    </tr>\n",
       "  </tbody>\n",
       "</table>\n",
       "</div>"
      ],
      "text/plain": [
       "   app_id  dlc  recommendationid  \\\n",
       "0    1256    1          23698284   \n",
       "1    1256    1          13871472   \n",
       "2    1256    1           2722792   \n",
       "3    1256    1          15154600   \n",
       "4    1256    1            640873   \n",
       "\n",
       "                                              author language  \\\n",
       "0  {'steamid': '76561197963558222', 'num_games_ow...  english   \n",
       "1  {'steamid': '76561198044217796', 'num_games_ow...  english   \n",
       "2  {'steamid': '76561198011647032', 'num_games_ow...  english   \n",
       "3  {'steamid': '76561198023430257', 'num_games_ow...  english   \n",
       "4  {'steamid': '76561197973951600', 'num_games_ow...  english   \n",
       "\n",
       "                                              review timestamp_created  \\\n",
       "0  I got this back in 2010 and it was around $2, ...        1466566487   \n",
       "1                               DJ Scully nuff said.        1420584436   \n",
       "2  These Killing Floor characters really adds to ...        1323402878   \n",
       "3  Guy in a HaZmat suit... cool\\nSome guy with so...        1427894740   \n",
       "4  This DLC has the best looking character models...        1292376412   \n",
       "\n",
       "  timestamp_updated  voted_up  votes_up  votes_funny  weighted_vote_score  \\\n",
       "0        1466566487     False        51            1             0.781742   \n",
       "1        1420584436      True        23            4             0.707484   \n",
       "2        1323402878      True        22            2             0.659986   \n",
       "3        1427894740      True         7           10             0.593850   \n",
       "4        1292376412      True         9            0             0.591672   \n",
       "\n",
       "   comment_count  steam_purchase  received_for_free  \\\n",
       "0              3            True              False   \n",
       "1              0            True              False   \n",
       "2              0            True              False   \n",
       "3              0            True              False   \n",
       "4              0            True              False   \n",
       "\n",
       "   written_during_early_access  \n",
       "0                        False  \n",
       "1                        False  \n",
       "2                        False  \n",
       "3                        False  \n",
       "4                        False  "
      ]
     },
     "execution_count": 26,
     "metadata": {},
     "output_type": "execute_result"
    }
   ],
   "source": [
    "dlc_df.head()"
   ]
  },
  {
   "cell_type": "code",
   "execution_count": 65,
   "metadata": {},
   "outputs": [
    {
     "data": {
      "text/plain": [
       "\"{'steamid': '76561197963558222', 'num_games_owned': 251, 'num_reviews': 15, 'playtime_forever': 0, 'playtime_last_two_weeks': 0, 'last_played': 0}\""
      ]
     },
     "execution_count": 65,
     "metadata": {},
     "output_type": "execute_result"
    }
   ],
   "source": [
    "dlc_df.author[0]"
   ]
  },
  {
   "cell_type": "code",
   "execution_count": 66,
   "metadata": {},
   "outputs": [
    {
     "data": {
      "text/plain": [
       "588830"
      ]
     },
     "execution_count": 66,
     "metadata": {},
     "output_type": "execute_result"
    }
   ],
   "source": [
    "dlc_df.app_id[47130]"
   ]
  },
  {
   "cell_type": "code",
   "execution_count": 70,
   "metadata": {},
   "outputs": [
    {
     "data": {
      "text/html": [
       "<div>\n",
       "<style scoped>\n",
       "    .dataframe tbody tr th:only-of-type {\n",
       "        vertical-align: middle;\n",
       "    }\n",
       "\n",
       "    .dataframe tbody tr th {\n",
       "        vertical-align: top;\n",
       "    }\n",
       "\n",
       "    .dataframe thead th {\n",
       "        text-align: right;\n",
       "    }\n",
       "</style>\n",
       "<table border=\"1\" class=\"dataframe\">\n",
       "  <thead>\n",
       "    <tr style=\"text-align: right;\">\n",
       "      <th></th>\n",
       "      <th>app_id</th>\n",
       "      <th>dlc</th>\n",
       "      <th>recommendationid</th>\n",
       "      <th>author</th>\n",
       "      <th>language</th>\n",
       "      <th>review</th>\n",
       "      <th>timestamp_created</th>\n",
       "      <th>timestamp_updated</th>\n",
       "      <th>voted_up</th>\n",
       "      <th>votes_up</th>\n",
       "      <th>votes_funny</th>\n",
       "      <th>weighted_vote_score</th>\n",
       "      <th>comment_count</th>\n",
       "      <th>steam_purchase</th>\n",
       "      <th>received_for_free</th>\n",
       "      <th>written_during_early_access</th>\n",
       "    </tr>\n",
       "  </thead>\n",
       "  <tbody>\n",
       "    <tr>\n",
       "      <th>47130</th>\n",
       "      <td>588830</td>\n",
       "      <td>1</td>\n",
       "      <td>35073972</td>\n",
       "      <td>{'steamid': '76561198027180717', 'num_games_ow...</td>\n",
       "      <td>english</td>\n",
       "      <td>k</td>\n",
       "      <td>1505863152</td>\n",
       "      <td>1505863152</td>\n",
       "      <td>True</td>\n",
       "      <td>2</td>\n",
       "      <td>0</td>\n",
       "      <td>0.408111</td>\n",
       "      <td>0</td>\n",
       "      <td>True</td>\n",
       "      <td>False</td>\n",
       "      <td>False</td>\n",
       "    </tr>\n",
       "    <tr>\n",
       "      <th>47131</th>\n",
       "      <td>588830</td>\n",
       "      <td>1</td>\n",
       "      <td>76286403</td>\n",
       "      <td>{'steamid': '76561198137285867', 'num_games_ow...</td>\n",
       "      <td>english</td>\n",
       "      <td>6/10</td>\n",
       "      <td>1600617070</td>\n",
       "      <td>1600617070</td>\n",
       "      <td>True</td>\n",
       "      <td>0</td>\n",
       "      <td>0</td>\n",
       "      <td>0.000000</td>\n",
       "      <td>0</td>\n",
       "      <td>True</td>\n",
       "      <td>False</td>\n",
       "      <td>False</td>\n",
       "    </tr>\n",
       "  </tbody>\n",
       "</table>\n",
       "</div>"
      ],
      "text/plain": [
       "       app_id  dlc  recommendationid  \\\n",
       "47130  588830    1          35073972   \n",
       "47131  588830    1          76286403   \n",
       "\n",
       "                                                  author language review  \\\n",
       "47130  {'steamid': '76561198027180717', 'num_games_ow...  english      k   \n",
       "47131  {'steamid': '76561198137285867', 'num_games_ow...  english   6/10   \n",
       "\n",
       "       timestamp_created  timestamp_updated  voted_up  votes_up  votes_funny  \\\n",
       "47130         1505863152         1505863152      True         2            0   \n",
       "47131         1600617070         1600617070      True         0            0   \n",
       "\n",
       "       weighted_vote_score  comment_count  steam_purchase  received_for_free  \\\n",
       "47130             0.408111              0            True              False   \n",
       "47131             0.000000              0            True              False   \n",
       "\n",
       "       written_during_early_access  \n",
       "47130                        False  \n",
       "47131                        False  "
      ]
     },
     "execution_count": 70,
     "metadata": {},
     "output_type": "execute_result"
    }
   ],
   "source": [
    "dlc_df[dlc_df.app_id == 588830]"
   ]
  },
  {
   "cell_type": "code",
   "execution_count": 28,
   "metadata": {},
   "outputs": [],
   "source": [
    "dlc_df[['review_created', 'review_updated']] = dlc_df[['timestamp_created', 'timestamp_updated']].\\\n",
    "apply(pd.to_datetime, unit = 's')"
   ]
  },
  {
   "cell_type": "code",
   "execution_count": 29,
   "metadata": {},
   "outputs": [
    {
     "data": {
      "text/html": [
       "<div>\n",
       "<style scoped>\n",
       "    .dataframe tbody tr th:only-of-type {\n",
       "        vertical-align: middle;\n",
       "    }\n",
       "\n",
       "    .dataframe tbody tr th {\n",
       "        vertical-align: top;\n",
       "    }\n",
       "\n",
       "    .dataframe thead th {\n",
       "        text-align: right;\n",
       "    }\n",
       "</style>\n",
       "<table border=\"1\" class=\"dataframe\">\n",
       "  <thead>\n",
       "    <tr style=\"text-align: right;\">\n",
       "      <th></th>\n",
       "      <th>app_id</th>\n",
       "      <th>dlc</th>\n",
       "      <th>recommendationid</th>\n",
       "      <th>author</th>\n",
       "      <th>language</th>\n",
       "      <th>review</th>\n",
       "      <th>timestamp_created</th>\n",
       "      <th>timestamp_updated</th>\n",
       "      <th>voted_up</th>\n",
       "      <th>votes_up</th>\n",
       "      <th>votes_funny</th>\n",
       "      <th>weighted_vote_score</th>\n",
       "      <th>comment_count</th>\n",
       "      <th>steam_purchase</th>\n",
       "      <th>received_for_free</th>\n",
       "      <th>written_during_early_access</th>\n",
       "      <th>review_created</th>\n",
       "      <th>review_updated</th>\n",
       "    </tr>\n",
       "  </thead>\n",
       "  <tbody>\n",
       "    <tr>\n",
       "      <th>0</th>\n",
       "      <td>1256</td>\n",
       "      <td>1</td>\n",
       "      <td>23698284</td>\n",
       "      <td>{'steamid': '76561197963558222', 'num_games_ow...</td>\n",
       "      <td>english</td>\n",
       "      <td>I got this back in 2010 and it was around $2, ...</td>\n",
       "      <td>1466566487</td>\n",
       "      <td>1466566487</td>\n",
       "      <td>False</td>\n",
       "      <td>51</td>\n",
       "      <td>1</td>\n",
       "      <td>0.781742</td>\n",
       "      <td>3</td>\n",
       "      <td>True</td>\n",
       "      <td>False</td>\n",
       "      <td>False</td>\n",
       "      <td>2016-06-22 03:34:47</td>\n",
       "      <td>2016-06-22 03:34:47</td>\n",
       "    </tr>\n",
       "    <tr>\n",
       "      <th>1</th>\n",
       "      <td>1256</td>\n",
       "      <td>1</td>\n",
       "      <td>13871472</td>\n",
       "      <td>{'steamid': '76561198044217796', 'num_games_ow...</td>\n",
       "      <td>english</td>\n",
       "      <td>DJ Scully nuff said.</td>\n",
       "      <td>1420584436</td>\n",
       "      <td>1420584436</td>\n",
       "      <td>True</td>\n",
       "      <td>23</td>\n",
       "      <td>4</td>\n",
       "      <td>0.707484</td>\n",
       "      <td>0</td>\n",
       "      <td>True</td>\n",
       "      <td>False</td>\n",
       "      <td>False</td>\n",
       "      <td>2015-01-06 22:47:16</td>\n",
       "      <td>2015-01-06 22:47:16</td>\n",
       "    </tr>\n",
       "    <tr>\n",
       "      <th>2</th>\n",
       "      <td>1256</td>\n",
       "      <td>1</td>\n",
       "      <td>2722792</td>\n",
       "      <td>{'steamid': '76561198011647032', 'num_games_ow...</td>\n",
       "      <td>english</td>\n",
       "      <td>These Killing Floor characters really adds to ...</td>\n",
       "      <td>1323402878</td>\n",
       "      <td>1323402878</td>\n",
       "      <td>True</td>\n",
       "      <td>22</td>\n",
       "      <td>2</td>\n",
       "      <td>0.659986</td>\n",
       "      <td>0</td>\n",
       "      <td>True</td>\n",
       "      <td>False</td>\n",
       "      <td>False</td>\n",
       "      <td>2011-12-09 03:54:38</td>\n",
       "      <td>2011-12-09 03:54:38</td>\n",
       "    </tr>\n",
       "    <tr>\n",
       "      <th>3</th>\n",
       "      <td>1256</td>\n",
       "      <td>1</td>\n",
       "      <td>15154600</td>\n",
       "      <td>{'steamid': '76561198023430257', 'num_games_ow...</td>\n",
       "      <td>english</td>\n",
       "      <td>Guy in a HaZmat suit... cool\\nSome guy with so...</td>\n",
       "      <td>1427894740</td>\n",
       "      <td>1427894740</td>\n",
       "      <td>True</td>\n",
       "      <td>7</td>\n",
       "      <td>10</td>\n",
       "      <td>0.593850</td>\n",
       "      <td>0</td>\n",
       "      <td>True</td>\n",
       "      <td>False</td>\n",
       "      <td>False</td>\n",
       "      <td>2015-04-01 13:25:40</td>\n",
       "      <td>2015-04-01 13:25:40</td>\n",
       "    </tr>\n",
       "    <tr>\n",
       "      <th>4</th>\n",
       "      <td>1256</td>\n",
       "      <td>1</td>\n",
       "      <td>640873</td>\n",
       "      <td>{'steamid': '76561197973951600', 'num_games_ow...</td>\n",
       "      <td>english</td>\n",
       "      <td>This DLC has the best looking character models...</td>\n",
       "      <td>1292376412</td>\n",
       "      <td>1292376412</td>\n",
       "      <td>True</td>\n",
       "      <td>9</td>\n",
       "      <td>0</td>\n",
       "      <td>0.591672</td>\n",
       "      <td>0</td>\n",
       "      <td>True</td>\n",
       "      <td>False</td>\n",
       "      <td>False</td>\n",
       "      <td>2010-12-15 01:26:52</td>\n",
       "      <td>2010-12-15 01:26:52</td>\n",
       "    </tr>\n",
       "  </tbody>\n",
       "</table>\n",
       "</div>"
      ],
      "text/plain": [
       "   app_id  dlc  recommendationid  \\\n",
       "0    1256    1          23698284   \n",
       "1    1256    1          13871472   \n",
       "2    1256    1           2722792   \n",
       "3    1256    1          15154600   \n",
       "4    1256    1            640873   \n",
       "\n",
       "                                              author language  \\\n",
       "0  {'steamid': '76561197963558222', 'num_games_ow...  english   \n",
       "1  {'steamid': '76561198044217796', 'num_games_ow...  english   \n",
       "2  {'steamid': '76561198011647032', 'num_games_ow...  english   \n",
       "3  {'steamid': '76561198023430257', 'num_games_ow...  english   \n",
       "4  {'steamid': '76561197973951600', 'num_games_ow...  english   \n",
       "\n",
       "                                              review timestamp_created  \\\n",
       "0  I got this back in 2010 and it was around $2, ...        1466566487   \n",
       "1                               DJ Scully nuff said.        1420584436   \n",
       "2  These Killing Floor characters really adds to ...        1323402878   \n",
       "3  Guy in a HaZmat suit... cool\\nSome guy with so...        1427894740   \n",
       "4  This DLC has the best looking character models...        1292376412   \n",
       "\n",
       "  timestamp_updated  voted_up  votes_up  votes_funny  weighted_vote_score  \\\n",
       "0        1466566487     False        51            1             0.781742   \n",
       "1        1420584436      True        23            4             0.707484   \n",
       "2        1323402878      True        22            2             0.659986   \n",
       "3        1427894740      True         7           10             0.593850   \n",
       "4        1292376412      True         9            0             0.591672   \n",
       "\n",
       "   comment_count  steam_purchase  received_for_free  \\\n",
       "0              3            True              False   \n",
       "1              0            True              False   \n",
       "2              0            True              False   \n",
       "3              0            True              False   \n",
       "4              0            True              False   \n",
       "\n",
       "   written_during_early_access      review_created      review_updated  \n",
       "0                        False 2016-06-22 03:34:47 2016-06-22 03:34:47  \n",
       "1                        False 2015-01-06 22:47:16 2015-01-06 22:47:16  \n",
       "2                        False 2011-12-09 03:54:38 2011-12-09 03:54:38  \n",
       "3                        False 2015-04-01 13:25:40 2015-04-01 13:25:40  \n",
       "4                        False 2010-12-15 01:26:52 2010-12-15 01:26:52  "
      ]
     },
     "execution_count": 29,
     "metadata": {},
     "output_type": "execute_result"
    }
   ],
   "source": [
    "dlc_df.head()"
   ]
  },
  {
   "cell_type": "code",
   "execution_count": 59,
   "metadata": {},
   "outputs": [],
   "source": [
    "df2 = pd.json_normalize(dlc_df['author'].apply(eval))"
   ]
  },
  {
   "cell_type": "code",
   "execution_count": 60,
   "metadata": {},
   "outputs": [
    {
     "data": {
      "text/html": [
       "<div>\n",
       "<style scoped>\n",
       "    .dataframe tbody tr th:only-of-type {\n",
       "        vertical-align: middle;\n",
       "    }\n",
       "\n",
       "    .dataframe tbody tr th {\n",
       "        vertical-align: top;\n",
       "    }\n",
       "\n",
       "    .dataframe thead th {\n",
       "        text-align: right;\n",
       "    }\n",
       "</style>\n",
       "<table border=\"1\" class=\"dataframe\">\n",
       "  <thead>\n",
       "    <tr style=\"text-align: right;\">\n",
       "      <th></th>\n",
       "      <th>steamid</th>\n",
       "      <th>num_games_owned</th>\n",
       "      <th>num_reviews</th>\n",
       "      <th>playtime_forever</th>\n",
       "      <th>playtime_last_two_weeks</th>\n",
       "      <th>last_played</th>\n",
       "      <th>playtime_at_review</th>\n",
       "    </tr>\n",
       "  </thead>\n",
       "  <tbody>\n",
       "    <tr>\n",
       "      <th>0</th>\n",
       "      <td>76561197963558222</td>\n",
       "      <td>251</td>\n",
       "      <td>15</td>\n",
       "      <td>0</td>\n",
       "      <td>0</td>\n",
       "      <td>0</td>\n",
       "      <td>NaN</td>\n",
       "    </tr>\n",
       "    <tr>\n",
       "      <th>1</th>\n",
       "      <td>76561198044217796</td>\n",
       "      <td>125</td>\n",
       "      <td>8</td>\n",
       "      <td>0</td>\n",
       "      <td>0</td>\n",
       "      <td>0</td>\n",
       "      <td>NaN</td>\n",
       "    </tr>\n",
       "    <tr>\n",
       "      <th>2</th>\n",
       "      <td>76561198011647032</td>\n",
       "      <td>11675</td>\n",
       "      <td>502</td>\n",
       "      <td>0</td>\n",
       "      <td>0</td>\n",
       "      <td>0</td>\n",
       "      <td>NaN</td>\n",
       "    </tr>\n",
       "    <tr>\n",
       "      <th>3</th>\n",
       "      <td>76561198023430257</td>\n",
       "      <td>489</td>\n",
       "      <td>302</td>\n",
       "      <td>0</td>\n",
       "      <td>0</td>\n",
       "      <td>0</td>\n",
       "      <td>NaN</td>\n",
       "    </tr>\n",
       "    <tr>\n",
       "      <th>4</th>\n",
       "      <td>76561197973951600</td>\n",
       "      <td>425</td>\n",
       "      <td>21</td>\n",
       "      <td>0</td>\n",
       "      <td>0</td>\n",
       "      <td>0</td>\n",
       "      <td>NaN</td>\n",
       "    </tr>\n",
       "    <tr>\n",
       "      <th>...</th>\n",
       "      <td>...</td>\n",
       "      <td>...</td>\n",
       "      <td>...</td>\n",
       "      <td>...</td>\n",
       "      <td>...</td>\n",
       "      <td>...</td>\n",
       "      <td>...</td>\n",
       "    </tr>\n",
       "    <tr>\n",
       "      <th>48385</th>\n",
       "      <td>76561198065785428</td>\n",
       "      <td>485</td>\n",
       "      <td>14</td>\n",
       "      <td>0</td>\n",
       "      <td>0</td>\n",
       "      <td>0</td>\n",
       "      <td>NaN</td>\n",
       "    </tr>\n",
       "    <tr>\n",
       "      <th>48386</th>\n",
       "      <td>76561197967439706</td>\n",
       "      <td>292</td>\n",
       "      <td>4</td>\n",
       "      <td>0</td>\n",
       "      <td>0</td>\n",
       "      <td>0</td>\n",
       "      <td>NaN</td>\n",
       "    </tr>\n",
       "    <tr>\n",
       "      <th>48387</th>\n",
       "      <td>76561197993840491</td>\n",
       "      <td>380</td>\n",
       "      <td>78</td>\n",
       "      <td>0</td>\n",
       "      <td>0</td>\n",
       "      <td>0</td>\n",
       "      <td>NaN</td>\n",
       "    </tr>\n",
       "    <tr>\n",
       "      <th>48388</th>\n",
       "      <td>76561198310312055</td>\n",
       "      <td>42</td>\n",
       "      <td>53</td>\n",
       "      <td>0</td>\n",
       "      <td>0</td>\n",
       "      <td>0</td>\n",
       "      <td>NaN</td>\n",
       "    </tr>\n",
       "    <tr>\n",
       "      <th>48389</th>\n",
       "      <td>76561198084371848</td>\n",
       "      <td>178</td>\n",
       "      <td>15</td>\n",
       "      <td>0</td>\n",
       "      <td>0</td>\n",
       "      <td>0</td>\n",
       "      <td>NaN</td>\n",
       "    </tr>\n",
       "  </tbody>\n",
       "</table>\n",
       "<p>48390 rows × 7 columns</p>\n",
       "</div>"
      ],
      "text/plain": [
       "                 steamid  num_games_owned  num_reviews  playtime_forever  \\\n",
       "0      76561197963558222              251           15                 0   \n",
       "1      76561198044217796              125            8                 0   \n",
       "2      76561198011647032            11675          502                 0   \n",
       "3      76561198023430257              489          302                 0   \n",
       "4      76561197973951600              425           21                 0   \n",
       "...                  ...              ...          ...               ...   \n",
       "48385  76561198065785428              485           14                 0   \n",
       "48386  76561197967439706              292            4                 0   \n",
       "48387  76561197993840491              380           78                 0   \n",
       "48388  76561198310312055               42           53                 0   \n",
       "48389  76561198084371848              178           15                 0   \n",
       "\n",
       "       playtime_last_two_weeks  last_played  playtime_at_review  \n",
       "0                            0            0                 NaN  \n",
       "1                            0            0                 NaN  \n",
       "2                            0            0                 NaN  \n",
       "3                            0            0                 NaN  \n",
       "4                            0            0                 NaN  \n",
       "...                        ...          ...                 ...  \n",
       "48385                        0            0                 NaN  \n",
       "48386                        0            0                 NaN  \n",
       "48387                        0            0                 NaN  \n",
       "48388                        0            0                 NaN  \n",
       "48389                        0            0                 NaN  \n",
       "\n",
       "[48390 rows x 7 columns]"
      ]
     },
     "execution_count": 60,
     "metadata": {},
     "output_type": "execute_result"
    }
   ],
   "source": [
    "df2"
   ]
  },
  {
   "cell_type": "code",
   "execution_count": 18,
   "metadata": {},
   "outputs": [
    {
     "name": "stderr",
     "output_type": "stream",
     "text": [
      "/opt/anaconda3/lib/python3.8/site-packages/seaborn/distributions.py:2551: FutureWarning: `distplot` is a deprecated function and will be removed in a future version. Please adapt your code to use either `displot` (a figure-level function with similar flexibility) or `kdeplot` (an axes-level function for kernel density plots).\n",
      "  warnings.warn(msg, FutureWarning)\n",
      "/opt/anaconda3/lib/python3.8/site-packages/seaborn/distributions.py:2055: FutureWarning: The `axis` variable is no longer used and will be removed. Instead, assign variables directly to `x` or `y`.\n",
      "  warnings.warn(msg, FutureWarning)\n"
     ]
    },
    {
     "data": {
      "text/plain": [
       "<AxesSubplot:ylabel='Density'>"
      ]
     },
     "execution_count": 18,
     "metadata": {},
     "output_type": "execute_result"
    },
    {
     "data": {
      "image/png": "[encoded data removed]",
      "text/plain": [
       "<Figure size 432x288 with 1 Axes>"
      ]
     },
     "metadata": {
      "needs_background": "light"
     },
     "output_type": "display_data"
    }
   ],
   "source": [
    "sns.distplot(df2[['num_games_owned']], hist=False, rug=True)\n"
   ]
  },
  {
   "cell_type": "code",
   "execution_count": 23,
   "metadata": {},
   "outputs": [
    {
     "name": "stderr",
     "output_type": "stream",
     "text": [
      "/opt/anaconda3/lib/python3.8/site-packages/seaborn/distributions.py:2551: FutureWarning: `distplot` is a deprecated function and will be removed in a future version. Please adapt your code to use either `displot` (a figure-level function with similar flexibility) or `histplot` (an axes-level function for histograms).\n",
      "  warnings.warn(msg, FutureWarning)\n"
     ]
    },
    {
     "data": {
      "text/plain": [
       "<AxesSubplot:ylabel='Density'>"
      ]
     },
     "execution_count": 23,
     "metadata": {},
     "output_type": "execute_result"
    },
    {
     "data": {
      "image/png": "[encoded data removed]",
      "text/plain": [
       "<Figure size 432x288 with 1 Axes>"
      ]
     },
     "metadata": {
      "needs_background": "light"
     },
     "output_type": "display_data"
    }
   ],
   "source": [
    "sns.distplot(df2[['num_reviews']], hist=True, bins=10)"
   ]
  },
  {
   "cell_type": "code",
   "execution_count": 26,
   "metadata": {},
   "outputs": [
    {
     "data": {
      "image/png": "[encoded data removed]",
      "text/plain": [
       "<Figure size 432x288 with 1 Axes>"
      ]
     },
     "metadata": {
      "needs_background": "light"
     },
     "output_type": "display_data"
    }
   ],
   "source": [
    "df2['num_reviews'].plot()\n",
    "df2['num_games_owned'].plot()\n",
    "plt.show()"
   ]
  },
  {
   "cell_type": "code",
   "execution_count": 31,
   "metadata": {},
   "outputs": [
    {
     "data": {
      "text/plain": [
       "<AxesSubplot:xlabel='num_reviews', ylabel='num_games_owned'>"
      ]
     },
     "execution_count": 31,
     "metadata": {},
     "output_type": "execute_result"
    },
    {
     "data": {
      "image/png": "[encoded data removed]",
      "text/plain": [
       "<Figure size 432x288 with 1 Axes>"
      ]
     },
     "metadata": {
      "needs_background": "light"
     },
     "output_type": "display_data"
    }
   ],
   "source": [
    "df2.plot.scatter(x = 'num_reviews', y= 'num_games_owned')"
   ]
  },
  {
   "cell_type": "code",
   "execution_count": 35,
   "metadata": {},
   "outputs": [
    {
     "name": "stdout",
     "output_type": "stream",
     "text": [
      "<class 'pandas.core.frame.DataFrame'>\n",
      "RangeIndex: 48390 entries, 0 to 48389\n",
      "Data columns (total 7 columns):\n",
      " #   Column                   Non-Null Count  Dtype  \n",
      "---  ------                   --------------  -----  \n",
      " 0   steamid                  48390 non-null  object \n",
      " 1   num_games_owned          48390 non-null  int64  \n",
      " 2   num_reviews              48390 non-null  int64  \n",
      " 3   playtime_forever         48390 non-null  int64  \n",
      " 4   playtime_last_two_weeks  48390 non-null  int64  \n",
      " 5   last_played              48390 non-null  int64  \n",
      " 6   playtime_at_review       129 non-null    float64\n",
      "dtypes: float64(1), int64(5), object(1)\n",
      "memory usage: 2.6+ MB\n"
     ]
    }
   ],
   "source": [
    "df2.info()"
   ]
  },
  {
   "cell_type": "code",
   "execution_count": 38,
   "metadata": {
    "scrolled": false
   },
   "outputs": [
    {
     "data": {
      "text/html": [
       "<div>\n",
       "<style scoped>\n",
       "    .dataframe tbody tr th:only-of-type {\n",
       "        vertical-align: middle;\n",
       "    }\n",
       "\n",
       "    .dataframe tbody tr th {\n",
       "        vertical-align: top;\n",
       "    }\n",
       "\n",
       "    .dataframe thead th {\n",
       "        text-align: right;\n",
       "    }\n",
       "</style>\n",
       "<table border=\"1\" class=\"dataframe\">\n",
       "  <thead>\n",
       "    <tr style=\"text-align: right;\">\n",
       "      <th></th>\n",
       "      <th>steamid</th>\n",
       "      <th>num_games_owned</th>\n",
       "      <th>num_reviews</th>\n",
       "      <th>playtime_forever</th>\n",
       "      <th>playtime_last_two_weeks</th>\n",
       "      <th>last_played</th>\n",
       "      <th>playtime_at_review</th>\n",
       "    </tr>\n",
       "  </thead>\n",
       "  <tbody>\n",
       "    <tr>\n",
       "      <th>37</th>\n",
       "      <td>76561198016046767</td>\n",
       "      <td>1428</td>\n",
       "      <td>1026</td>\n",
       "      <td>0</td>\n",
       "      <td>0</td>\n",
       "      <td>0</td>\n",
       "      <td>NaN</td>\n",
       "    </tr>\n",
       "    <tr>\n",
       "      <th>173</th>\n",
       "      <td>76561198053229942</td>\n",
       "      <td>1299</td>\n",
       "      <td>1018</td>\n",
       "      <td>0</td>\n",
       "      <td>0</td>\n",
       "      <td>0</td>\n",
       "      <td>NaN</td>\n",
       "    </tr>\n",
       "    <tr>\n",
       "      <th>203</th>\n",
       "      <td>76561198053229942</td>\n",
       "      <td>1299</td>\n",
       "      <td>1018</td>\n",
       "      <td>0</td>\n",
       "      <td>0</td>\n",
       "      <td>0</td>\n",
       "      <td>NaN</td>\n",
       "    </tr>\n",
       "    <tr>\n",
       "      <th>227</th>\n",
       "      <td>76561198053229942</td>\n",
       "      <td>1299</td>\n",
       "      <td>1018</td>\n",
       "      <td>0</td>\n",
       "      <td>0</td>\n",
       "      <td>0</td>\n",
       "      <td>NaN</td>\n",
       "    </tr>\n",
       "    <tr>\n",
       "      <th>263</th>\n",
       "      <td>76561198053229942</td>\n",
       "      <td>1299</td>\n",
       "      <td>1018</td>\n",
       "      <td>0</td>\n",
       "      <td>0</td>\n",
       "      <td>0</td>\n",
       "      <td>NaN</td>\n",
       "    </tr>\n",
       "    <tr>\n",
       "      <th>...</th>\n",
       "      <td>...</td>\n",
       "      <td>...</td>\n",
       "      <td>...</td>\n",
       "      <td>...</td>\n",
       "      <td>...</td>\n",
       "      <td>...</td>\n",
       "      <td>...</td>\n",
       "    </tr>\n",
       "    <tr>\n",
       "      <th>47991</th>\n",
       "      <td>76561198066590240</td>\n",
       "      <td>5170</td>\n",
       "      <td>1985</td>\n",
       "      <td>0</td>\n",
       "      <td>0</td>\n",
       "      <td>0</td>\n",
       "      <td>NaN</td>\n",
       "    </tr>\n",
       "    <tr>\n",
       "      <th>48121</th>\n",
       "      <td>76561198043135631</td>\n",
       "      <td>2274</td>\n",
       "      <td>1356</td>\n",
       "      <td>0</td>\n",
       "      <td>0</td>\n",
       "      <td>0</td>\n",
       "      <td>NaN</td>\n",
       "    </tr>\n",
       "    <tr>\n",
       "      <th>48141</th>\n",
       "      <td>76561198043135631</td>\n",
       "      <td>2278</td>\n",
       "      <td>1356</td>\n",
       "      <td>0</td>\n",
       "      <td>0</td>\n",
       "      <td>0</td>\n",
       "      <td>NaN</td>\n",
       "    </tr>\n",
       "    <tr>\n",
       "      <th>48156</th>\n",
       "      <td>76561198043135631</td>\n",
       "      <td>2274</td>\n",
       "      <td>1356</td>\n",
       "      <td>0</td>\n",
       "      <td>0</td>\n",
       "      <td>0</td>\n",
       "      <td>NaN</td>\n",
       "    </tr>\n",
       "    <tr>\n",
       "      <th>48332</th>\n",
       "      <td>76561198043135631</td>\n",
       "      <td>2278</td>\n",
       "      <td>1356</td>\n",
       "      <td>0</td>\n",
       "      <td>0</td>\n",
       "      <td>0</td>\n",
       "      <td>NaN</td>\n",
       "    </tr>\n",
       "  </tbody>\n",
       "</table>\n",
       "<p>716 rows × 7 columns</p>\n",
       "</div>"
      ],
      "text/plain": [
       "                 steamid  num_games_owned  num_reviews  playtime_forever  \\\n",
       "37     76561198016046767             1428         1026                 0   \n",
       "173    76561198053229942             1299         1018                 0   \n",
       "203    76561198053229942             1299         1018                 0   \n",
       "227    76561198053229942             1299         1018                 0   \n",
       "263    76561198053229942             1299         1018                 0   \n",
       "...                  ...              ...          ...               ...   \n",
       "47991  76561198066590240             5170         1985                 0   \n",
       "48121  76561198043135631             2274         1356                 0   \n",
       "48141  76561198043135631             2278         1356                 0   \n",
       "48156  76561198043135631             2274         1356                 0   \n",
       "48332  76561198043135631             2278         1356                 0   \n",
       "\n",
       "       playtime_last_two_weeks  last_played  playtime_at_review  \n",
       "37                           0            0                 NaN  \n",
       "173                          0            0                 NaN  \n",
       "203                          0            0                 NaN  \n",
       "227                          0            0                 NaN  \n",
       "263                          0            0                 NaN  \n",
       "...                        ...          ...                 ...  \n",
       "47991                        0            0                 NaN  \n",
       "48121                        0            0                 NaN  \n",
       "48141                        0            0                 NaN  \n",
       "48156                        0            0                 NaN  \n",
       "48332                        0            0                 NaN  \n",
       "\n",
       "[716 rows x 7 columns]"
      ]
     },
     "execution_count": 38,
     "metadata": {},
     "output_type": "execute_result"
    }
   ],
   "source": [
    "df2[df2.num_reviews > 1000]"
   ]
  },
  {
   "cell_type": "code",
   "execution_count": null,
   "metadata": {},
   "outputs": [],
   "source": [
    "playtime_forever, playtime_last_two_weeks, last_played doesn't count times for dlcs - only looks at the main game"
   ]
  },
  {
   "cell_type": "code",
   "execution_count": 37,
   "metadata": {},
   "outputs": [
    {
     "data": {
      "text/plain": [
       "<seaborn.axisgrid.PairGrid at 0x7ffcfa49cf10>"
      ]
     },
     "execution_count": 37,
     "metadata": {},
     "output_type": "execute_result"
    },
    {
     "data": {
      "image/png": "[encoded data removed]",
      "text/plain": [
       "<Figure size 1080x1080 with 42 Axes>"
      ]
     },
     "metadata": {
      "needs_background": "light"
     },
     "output_type": "display_data"
    }
   ],
   "source": [
    "sns.pairplot(df2)"
   ]
  },
  {
   "cell_type": "code",
   "execution_count": 61,
   "metadata": {},
   "outputs": [
    {
     "data": {
      "text/html": [
       "<div>\n",
       "<style scoped>\n",
       "    .dataframe tbody tr th:only-of-type {\n",
       "        vertical-align: middle;\n",
       "    }\n",
       "\n",
       "    .dataframe tbody tr th {\n",
       "        vertical-align: top;\n",
       "    }\n",
       "\n",
       "    .dataframe thead th {\n",
       "        text-align: right;\n",
       "    }\n",
       "</style>\n",
       "<table border=\"1\" class=\"dataframe\">\n",
       "  <thead>\n",
       "    <tr style=\"text-align: right;\">\n",
       "      <th></th>\n",
       "      <th>steamid</th>\n",
       "      <th>num_games_owned</th>\n",
       "      <th>num_reviews</th>\n",
       "      <th>playtime_forever</th>\n",
       "      <th>playtime_last_two_weeks</th>\n",
       "      <th>last_played</th>\n",
       "      <th>playtime_at_review</th>\n",
       "    </tr>\n",
       "  </thead>\n",
       "  <tbody>\n",
       "    <tr>\n",
       "      <th>54</th>\n",
       "      <td>76561197997602124</td>\n",
       "      <td>799</td>\n",
       "      <td>43</td>\n",
       "      <td>15</td>\n",
       "      <td>0</td>\n",
       "      <td>86400</td>\n",
       "      <td>15.0</td>\n",
       "    </tr>\n",
       "    <tr>\n",
       "      <th>55</th>\n",
       "      <td>76561198149672813</td>\n",
       "      <td>180</td>\n",
       "      <td>16</td>\n",
       "      <td>6</td>\n",
       "      <td>0</td>\n",
       "      <td>1562948873</td>\n",
       "      <td>NaN</td>\n",
       "    </tr>\n",
       "    <tr>\n",
       "      <th>56</th>\n",
       "      <td>76561197993324433</td>\n",
       "      <td>404</td>\n",
       "      <td>74</td>\n",
       "      <td>1</td>\n",
       "      <td>0</td>\n",
       "      <td>1429728361</td>\n",
       "      <td>NaN</td>\n",
       "    </tr>\n",
       "    <tr>\n",
       "      <th>57</th>\n",
       "      <td>76561198050382401</td>\n",
       "      <td>121</td>\n",
       "      <td>13</td>\n",
       "      <td>13</td>\n",
       "      <td>0</td>\n",
       "      <td>1583472785</td>\n",
       "      <td>5.0</td>\n",
       "    </tr>\n",
       "    <tr>\n",
       "      <th>58</th>\n",
       "      <td>76561198799786139</td>\n",
       "      <td>15</td>\n",
       "      <td>2</td>\n",
       "      <td>1</td>\n",
       "      <td>0</td>\n",
       "      <td>1583206682</td>\n",
       "      <td>NaN</td>\n",
       "    </tr>\n",
       "    <tr>\n",
       "      <th>...</th>\n",
       "      <td>...</td>\n",
       "      <td>...</td>\n",
       "      <td>...</td>\n",
       "      <td>...</td>\n",
       "      <td>...</td>\n",
       "      <td>...</td>\n",
       "      <td>...</td>\n",
       "    </tr>\n",
       "    <tr>\n",
       "      <th>40650</th>\n",
       "      <td>76561198043135631</td>\n",
       "      <td>2274</td>\n",
       "      <td>1356</td>\n",
       "      <td>5</td>\n",
       "      <td>0</td>\n",
       "      <td>1607395041</td>\n",
       "      <td>5.0</td>\n",
       "    </tr>\n",
       "    <tr>\n",
       "      <th>42340</th>\n",
       "      <td>76561197990705923</td>\n",
       "      <td>3416</td>\n",
       "      <td>67</td>\n",
       "      <td>6</td>\n",
       "      <td>0</td>\n",
       "      <td>1472658980</td>\n",
       "      <td>6.0</td>\n",
       "    </tr>\n",
       "    <tr>\n",
       "      <th>46134</th>\n",
       "      <td>76561198125392509</td>\n",
       "      <td>658</td>\n",
       "      <td>5236</td>\n",
       "      <td>16</td>\n",
       "      <td>0</td>\n",
       "      <td>1530052344</td>\n",
       "      <td>16.0</td>\n",
       "    </tr>\n",
       "    <tr>\n",
       "      <th>47130</th>\n",
       "      <td>76561198027180717</td>\n",
       "      <td>186</td>\n",
       "      <td>200</td>\n",
       "      <td>8873</td>\n",
       "      <td>0</td>\n",
       "      <td>1505864106</td>\n",
       "      <td>NaN</td>\n",
       "    </tr>\n",
       "    <tr>\n",
       "      <th>47482</th>\n",
       "      <td>76561198043711805</td>\n",
       "      <td>1035</td>\n",
       "      <td>110</td>\n",
       "      <td>23</td>\n",
       "      <td>0</td>\n",
       "      <td>1488166046</td>\n",
       "      <td>10.0</td>\n",
       "    </tr>\n",
       "  </tbody>\n",
       "</table>\n",
       "<p>187 rows × 7 columns</p>\n",
       "</div>"
      ],
      "text/plain": [
       "                 steamid  num_games_owned  num_reviews  playtime_forever  \\\n",
       "54     76561197997602124              799           43                15   \n",
       "55     76561198149672813              180           16                 6   \n",
       "56     76561197993324433              404           74                 1   \n",
       "57     76561198050382401              121           13                13   \n",
       "58     76561198799786139               15            2                 1   \n",
       "...                  ...              ...          ...               ...   \n",
       "40650  76561198043135631             2274         1356                 5   \n",
       "42340  76561197990705923             3416           67                 6   \n",
       "46134  76561198125392509              658         5236                16   \n",
       "47130  76561198027180717              186          200              8873   \n",
       "47482  76561198043711805             1035          110                23   \n",
       "\n",
       "       playtime_last_two_weeks  last_played  playtime_at_review  \n",
       "54                           0        86400                15.0  \n",
       "55                           0   1562948873                 NaN  \n",
       "56                           0   1429728361                 NaN  \n",
       "57                           0   1583472785                 5.0  \n",
       "58                           0   1583206682                 NaN  \n",
       "...                        ...          ...                 ...  \n",
       "40650                        0   1607395041                 5.0  \n",
       "42340                        0   1472658980                 6.0  \n",
       "46134                        0   1530052344                16.0  \n",
       "47130                        0   1505864106                 NaN  \n",
       "47482                        0   1488166046                10.0  \n",
       "\n",
       "[187 rows x 7 columns]"
      ]
     },
     "execution_count": 61,
     "metadata": {},
     "output_type": "execute_result"
    }
   ],
   "source": [
    "df2[df2.playtime_forever > 0]\n",
    "#when inspecting these in the game store, altho they were labeled as a DLC beforehand, not actually DLCs 187 games mislabeled"
   ]
  },
  {
   "cell_type": "code",
   "execution_count": 71,
   "metadata": {},
   "outputs": [],
   "source": [
    "#Author column is a dictionary - expanding this out into new columns and concatenate to original df, drop author\n",
    "df3 = pd.concat([dlc_df, pd.json_normalize(dlc_df['author'].apply(eval))], axis=1)"
   ]
  },
  {
   "cell_type": "code",
   "execution_count": 74,
   "metadata": {},
   "outputs": [
    {
     "name": "stdout",
     "output_type": "stream",
     "text": [
      "<class 'pandas.core.frame.DataFrame'>\n",
      "RangeIndex: 48390 entries, 0 to 48389\n",
      "Data columns (total 23 columns):\n",
      " #   Column                       Non-Null Count  Dtype  \n",
      "---  ------                       --------------  -----  \n",
      " 0   app_id                       48390 non-null  int64  \n",
      " 1   dlc                          48390 non-null  int64  \n",
      " 2   recommendationid             48390 non-null  int64  \n",
      " 3   author                       48390 non-null  object \n",
      " 4   language                     48390 non-null  object \n",
      " 5   review                       48359 non-null  object \n",
      " 6   timestamp_created            48390 non-null  int64  \n",
      " 7   timestamp_updated            48390 non-null  int64  \n",
      " 8   voted_up                     48390 non-null  bool   \n",
      " 9   votes_up                     48390 non-null  int64  \n",
      " 10  votes_funny                  48390 non-null  int64  \n",
      " 11  weighted_vote_score          48390 non-null  float64\n",
      " 12  comment_count                48390 non-null  int64  \n",
      " 13  steam_purchase               48390 non-null  bool   \n",
      " 14  received_for_free            48390 non-null  bool   \n",
      " 15  written_during_early_access  48390 non-null  bool   \n",
      " 16  steamid                      48390 non-null  object \n",
      " 17  num_games_owned              48390 non-null  int64  \n",
      " 18  num_reviews                  48390 non-null  int64  \n",
      " 19  playtime_forever             48390 non-null  int64  \n",
      " 20  playtime_last_two_weeks      48390 non-null  int64  \n",
      " 21  last_played                  48390 non-null  int64  \n",
      " 22  playtime_at_review           129 non-null    float64\n",
      "dtypes: bool(4), float64(2), int64(13), object(4)\n",
      "memory usage: 7.2+ MB\n"
     ]
    }
   ],
   "source": [
    "df3.info()"
   ]
  },
  {
   "cell_type": "code",
   "execution_count": null,
   "metadata": {},
   "outputs": [],
   "source": []
  },
  {
   "cell_type": "code",
   "execution_count": null,
   "metadata": {},
   "outputs": [],
   "source": [
    "in game df the detailed description is an expanded about - so can drop this after checking for nans\n",
    "maybe also look into just using the short description"
   ]
  },
  {
   "cell_type": "code",
   "execution_count": null,
   "metadata": {},
   "outputs": [],
   "source": [
    "as you cannot calculate dlc playtime, had to link up the original game playtime and get the total time played for the game\n",
    "however might then not have any relationship to the dlc? can use eda to explore this - eg does playtime of a game go up with increase in dlcs?"
   ]
  }
 ],
 "metadata": {
  "kernelspec": {
   "display_name": "Python 3",
   "language": "python",
   "name": "python3"
  },
  "language_info": {
   "codemirror_mode": {
    "name": "ipython",
    "version": 3
   },
   "file_extension": ".py",
   "mimetype": "text/x-python",
   "name": "python",
   "nbconvert_exporter": "python",
   "pygments_lexer": "ipython3",
   "version": "3.8.5"
  }
 },
 "nbformat": 4,
 "nbformat_minor": 4
}
