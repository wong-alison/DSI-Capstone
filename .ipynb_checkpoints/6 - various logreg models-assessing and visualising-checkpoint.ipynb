{
 "cells": [
  {
   "cell_type": "code",
   "execution_count": 6,
   "metadata": {},
   "outputs": [],
   "source": [
    "import joblib\n",
    "import pandas as pd\n",
    "import numpy as np\n",
    "import re\n",
    "import matplotlib.pyplot as plt\n",
    "import scikitplot as skplt\n",
    "\n",
    "#Model imports\n",
    "from sklearn.linear_model import LogisticRegression\n",
    "from sklearn.feature_extraction.text import CountVectorizer, TfidfVectorizer\n",
    "from sklearn.pipeline import make_pipeline\n",
    "from sklearn.model_selection import cross_val_score\n",
    "from sklearn.model_selection import train_test_split\n",
    "# customisations - ensure tables show all columns\n",
    "pd.set_option(\"max_columns\", 100)\n",
    "pd.options.plotting.backend = \"plotly\""
   ]
  },
  {
   "cell_type": "code",
   "execution_count": 2,
   "metadata": {},
   "outputs": [],
   "source": [
    "df = joblib.load('data/review_eda')"
   ]
  },
  {
   "cell_type": "code",
   "execution_count": 3,
   "metadata": {},
   "outputs": [
    {
     "data": {
      "text/plain": [
       "(76640, 17)"
      ]
     },
     "execution_count": 3,
     "metadata": {},
     "output_type": "execute_result"
    }
   ],
   "source": [
    "df.shape"
   ]
  },
  {
   "cell_type": "code",
   "execution_count": 4,
   "metadata": {},
   "outputs": [
    {
     "name": "stdout",
     "output_type": "stream",
     "text": [
      "<class 'pandas.core.frame.DataFrame'>\n",
      "RangeIndex: 76640 entries, 0 to 76639\n",
      "Data columns (total 17 columns):\n",
      " #   Column               Non-Null Count  Dtype         \n",
      "---  ------               --------------  -----         \n",
      " 0   app_id               76640 non-null  int64         \n",
      " 1   dlc                  76640 non-null  int64         \n",
      " 2   recommendationid     76640 non-null  object        \n",
      " 3   review               76640 non-null  object        \n",
      " 4   voted_up             76640 non-null  object        \n",
      " 5   votes_up             76640 non-null  float64       \n",
      " 6   votes_funny          76640 non-null  float64       \n",
      " 7   weighted_vote_score  76640 non-null  float64       \n",
      " 8   review_created       76640 non-null  datetime64[ns]\n",
      " 9   review_updated       76640 non-null  datetime64[ns]\n",
      " 10  review_year          76640 non-null  int64         \n",
      " 11  steamid              76640 non-null  object        \n",
      " 12  num_games_owned      76640 non-null  int64         \n",
      " 13  num_reviews          76640 non-null  int64         \n",
      " 14  rating               76640 non-null  object        \n",
      " 15  helpful              76640 non-null  object        \n",
      " 16  review_length        76640 non-null  int64         \n",
      "dtypes: datetime64[ns](2), float64(3), int64(6), object(6)\n",
      "memory usage: 9.9+ MB\n"
     ]
    }
   ],
   "source": [
    "df.info()"
   ]
  },
  {
   "cell_type": "code",
   "execution_count": 10,
   "metadata": {},
   "outputs": [],
   "source": [
    "df = df[['app_id', 'recommendationid', 'review', 'helpful', 'rating']]"
   ]
  },
  {
   "cell_type": "code",
   "execution_count": 41,
   "metadata": {},
   "outputs": [],
   "source": [
    "cvec = CountVectorizer(lowercase=False, max_df = 0.8, ngram_range=(1, 1)) \n",
    "#capitalisation etc could be important, can change ngrams later\n",
    "X = cvec.fit_transform(df.review)"
   ]
  },
  {
   "cell_type": "code",
   "execution_count": 12,
   "metadata": {},
   "outputs": [
    {
     "name": "stdout",
     "output_type": "stream",
     "text": [
      "97470\n"
     ]
    }
   ],
   "source": [
    "words = cvec.get_feature_names()\n",
    "# number of different words\n",
    "print(len(words))"
   ]
  },
  {
   "cell_type": "code",
   "execution_count": 15,
   "metadata": {},
   "outputs": [],
   "source": [
    "cvec = CountVectorizer(lowercase=False, ngram_range=(1, 1)) \n",
    "X = cvec.fit_transform(df.review)"
   ]
  },
  {
   "cell_type": "code",
   "execution_count": 17,
   "metadata": {},
   "outputs": [
    {
     "name": "stdout",
     "output_type": "stream",
     "text": [
      "97470\n"
     ]
    }
   ],
   "source": [
    "words = cvec.get_feature_names()\n",
    "# number of different words\n",
    "print(len(words))\n",
    "#max_df didn't actually get rid of any words"
   ]
  },
  {
   "cell_type": "code",
   "execution_count": 42,
   "metadata": {},
   "outputs": [],
   "source": [
    "X_all = cvec.fit_transform(df.review)\n",
    "columns = cvec.get_feature_names()"
   ]
  },
  {
   "cell_type": "code",
   "execution_count": 43,
   "metadata": {},
   "outputs": [
    {
     "data": {
      "text/plain": [
       "the     190863\n",
       "to       99622\n",
       "and      96873\n",
       "it       72378\n",
       "of       72112\n",
       "is       69883\n",
       "you      59261\n",
       "this     54167\n",
       "in       47765\n",
       "for      46252\n",
       "that     38543\n",
       "game     36252\n",
       "with     32251\n",
       "but      30246\n",
       "are      29171\n",
       "on       28291\n",
       "The      25995\n",
       "not      24850\n",
       "have     24593\n",
       "DLC      24575\n",
       "dtype: int64"
      ]
     },
     "execution_count": 43,
     "metadata": {},
     "output_type": "execute_result"
    }
   ],
   "source": [
    "def get_freq_words(sparse_counts, columns):\n",
    "\n",
    "    # X_all is a sparse matrix, so sum() returns a 'matrix' datatype ...\n",
    "    #   which we then convert into a 1-D ndarray for sorting\n",
    "\n",
    "    word_counts = np.ravel(X_all.sum(axis=0))\n",
    "    freq_words = pd.Series(\n",
    "        word_counts, index=columns).sort_values(ascending=False)\n",
    "\n",
    "    return freq_words\n",
    "\n",
    "\n",
    "freq_words = get_freq_words(X_all, columns)\n",
    "freq_words[:20]"
   ]
  },
  {
   "cell_type": "code",
   "execution_count": 22,
   "metadata": {},
   "outputs": [
    {
     "data": {
      "text/plain": [
       "helpful        38686\n",
       "not-helpful    37954\n",
       "Name: helpful, dtype: int64"
      ]
     },
     "execution_count": 22,
     "metadata": {},
     "output_type": "execute_result"
    }
   ],
   "source": [
    "df.helpful.value_counts()"
   ]
  },
  {
   "cell_type": "code",
   "execution_count": 23,
   "metadata": {},
   "outputs": [
    {
     "data": {
      "text/html": [
       "<div>\n",
       "<style scoped>\n",
       "    .dataframe tbody tr th:only-of-type {\n",
       "        vertical-align: middle;\n",
       "    }\n",
       "\n",
       "    .dataframe tbody tr th {\n",
       "        vertical-align: top;\n",
       "    }\n",
       "\n",
       "    .dataframe thead th {\n",
       "        text-align: right;\n",
       "    }\n",
       "</style>\n",
       "<table border=\"1\" class=\"dataframe\">\n",
       "  <thead>\n",
       "    <tr style=\"text-align: right;\">\n",
       "      <th></th>\n",
       "      <th>0</th>\n",
       "    </tr>\n",
       "  </thead>\n",
       "  <tbody>\n",
       "    <tr>\n",
       "      <th>the</th>\n",
       "      <td>58704</td>\n",
       "    </tr>\n",
       "    <tr>\n",
       "      <th>to</th>\n",
       "      <td>30708</td>\n",
       "    </tr>\n",
       "    <tr>\n",
       "      <th>and</th>\n",
       "      <td>30236</td>\n",
       "    </tr>\n",
       "    <tr>\n",
       "      <th>it</th>\n",
       "      <td>25604</td>\n",
       "    </tr>\n",
       "    <tr>\n",
       "      <th>is</th>\n",
       "      <td>22404</td>\n",
       "    </tr>\n",
       "    <tr>\n",
       "      <th>of</th>\n",
       "      <td>21112</td>\n",
       "    </tr>\n",
       "    <tr>\n",
       "      <th>this</th>\n",
       "      <td>18535</td>\n",
       "    </tr>\n",
       "    <tr>\n",
       "      <th>you</th>\n",
       "      <td>17439</td>\n",
       "    </tr>\n",
       "    <tr>\n",
       "      <th>for</th>\n",
       "      <td>14780</td>\n",
       "    </tr>\n",
       "    <tr>\n",
       "      <th>in</th>\n",
       "      <td>14304</td>\n",
       "    </tr>\n",
       "    <tr>\n",
       "      <th>game</th>\n",
       "      <td>13296</td>\n",
       "    </tr>\n",
       "    <tr>\n",
       "      <th>that</th>\n",
       "      <td>11501</td>\n",
       "    </tr>\n",
       "    <tr>\n",
       "      <th>but</th>\n",
       "      <td>10502</td>\n",
       "    </tr>\n",
       "    <tr>\n",
       "      <th>with</th>\n",
       "      <td>9908</td>\n",
       "    </tr>\n",
       "    <tr>\n",
       "      <th>on</th>\n",
       "      <td>9101</td>\n",
       "    </tr>\n",
       "    <tr>\n",
       "      <th>not</th>\n",
       "      <td>8767</td>\n",
       "    </tr>\n",
       "    <tr>\n",
       "      <th>are</th>\n",
       "      <td>8571</td>\n",
       "    </tr>\n",
       "    <tr>\n",
       "      <th>DLC</th>\n",
       "      <td>8188</td>\n",
       "    </tr>\n",
       "    <tr>\n",
       "      <th>have</th>\n",
       "      <td>7903</td>\n",
       "    </tr>\n",
       "    <tr>\n",
       "      <th>The</th>\n",
       "      <td>7643</td>\n",
       "    </tr>\n",
       "  </tbody>\n",
       "</table>\n",
       "</div>"
      ],
      "text/plain": [
       "          0\n",
       "the   58704\n",
       "to    30708\n",
       "and   30236\n",
       "it    25604\n",
       "is    22404\n",
       "of    21112\n",
       "this  18535\n",
       "you   17439\n",
       "for   14780\n",
       "in    14304\n",
       "game  13296\n",
       "that  11501\n",
       "but   10502\n",
       "with   9908\n",
       "on     9101\n",
       "not    8767\n",
       "are    8571\n",
       "DLC    8188\n",
       "have   7903\n",
       "The    7643"
      ]
     },
     "execution_count": 23,
     "metadata": {},
     "output_type": "execute_result"
    }
   ],
   "source": [
    "a = X[df.helpful == 'not-helpful'].sum(axis=0)\n",
    "pd.DataFrame(a, columns=words).transpose().sort_values(by=0, ascending=False)[:20]"
   ]
  },
  {
   "cell_type": "code",
   "execution_count": 7,
   "metadata": {},
   "outputs": [
    {
     "name": "stdout",
     "output_type": "stream",
     "text": [
      "98117\n"
     ]
    },
    {
     "data": {
      "text/html": [
       "<div>\n",
       "<style scoped>\n",
       "    .dataframe tbody tr th:only-of-type {\n",
       "        vertical-align: middle;\n",
       "    }\n",
       "\n",
       "    .dataframe tbody tr th {\n",
       "        vertical-align: top;\n",
       "    }\n",
       "\n",
       "    .dataframe thead th {\n",
       "        text-align: right;\n",
       "    }\n",
       "</style>\n",
       "<table border=\"1\" class=\"dataframe\">\n",
       "  <thead>\n",
       "    <tr style=\"text-align: right;\">\n",
       "      <th></th>\n",
       "      <th>0</th>\n",
       "    </tr>\n",
       "  </thead>\n",
       "  <tbody>\n",
       "    <tr>\n",
       "      <th>.</th>\n",
       "      <td>277486</td>\n",
       "    </tr>\n",
       "    <tr>\n",
       "      <th>,</th>\n",
       "      <td>160757</td>\n",
       "    </tr>\n",
       "    <tr>\n",
       "      <th>'</th>\n",
       "      <td>80780</td>\n",
       "    </tr>\n",
       "    <tr>\n",
       "      <th>I</th>\n",
       "      <td>75619</td>\n",
       "    </tr>\n",
       "    <tr>\n",
       "      <th></th>\n",
       "      <td>57382</td>\n",
       "    </tr>\n",
       "    <tr>\n",
       "      <th>-</th>\n",
       "      <td>55798</td>\n",
       "    </tr>\n",
       "    <tr>\n",
       "      <th>/</th>\n",
       "      <td>40459</td>\n",
       "    </tr>\n",
       "    <tr>\n",
       "      <th>]</th>\n",
       "      <td>36480</td>\n",
       "    </tr>\n",
       "    <tr>\n",
       "      <th>[</th>\n",
       "      <td>36468</td>\n",
       "    </tr>\n",
       "    <tr>\n",
       "      <th>game</th>\n",
       "      <td>36252</td>\n",
       "    </tr>\n",
       "    <tr>\n",
       "      <th>!</th>\n",
       "      <td>35731</td>\n",
       "    </tr>\n",
       "    <tr>\n",
       "      <th>s</th>\n",
       "      <td>32502</td>\n",
       "    </tr>\n",
       "    <tr>\n",
       "      <th>t</th>\n",
       "      <td>26983</td>\n",
       "    </tr>\n",
       "    <tr>\n",
       "      <th>The</th>\n",
       "      <td>25995</td>\n",
       "    </tr>\n",
       "    <tr>\n",
       "      <th>:</th>\n",
       "      <td>24706</td>\n",
       "    </tr>\n",
       "    <tr>\n",
       "      <th>DLC</th>\n",
       "      <td>24575</td>\n",
       "    </tr>\n",
       "    <tr>\n",
       "      <th>)</th>\n",
       "      <td>22894</td>\n",
       "    </tr>\n",
       "    <tr>\n",
       "      <th>(</th>\n",
       "      <td>19521</td>\n",
       "    </tr>\n",
       "    <tr>\n",
       "      <th>like</th>\n",
       "      <td>18887</td>\n",
       "    </tr>\n",
       "    <tr>\n",
       "      <th>\"</th>\n",
       "      <td>18736</td>\n",
       "    </tr>\n",
       "  </tbody>\n",
       "</table>\n",
       "</div>"
      ],
      "text/plain": [
       "           0\n",
       ".     277486\n",
       ",     160757\n",
       "'      80780\n",
       "I      75619\n",
       "       57382\n",
       "-      55798\n",
       "/      40459\n",
       "]      36480\n",
       "[      36468\n",
       "game   36252\n",
       "!      35731\n",
       "s      32502\n",
       "t      26983\n",
       "The    25995\n",
       ":      24706\n",
       "DLC    24575\n",
       ")      22894\n",
       "(      19521\n",
       "like   18887\n",
       "\"      18736"
      ]
     },
     "execution_count": 7,
     "metadata": {},
     "output_type": "execute_result"
    }
   ],
   "source": [
    "def keep_punc_token(text):\n",
    "    # create a space between special characters \n",
    "    text=re.sub(\"(\\\\W)\",\" \\\\1 \",text)\n",
    "\n",
    "    # split based on whitespace\n",
    "    return re.split(\"\\\\s+\",text)\n",
    "\n",
    "#try with English stopwords - keep punctuation\n",
    "cvec = CountVectorizer(lowercase=False, tokenizer = keep_punc_token, stop_words = 'english', ngram_range=(1, 1)) \n",
    "X = cvec.fit_transform(df.review)\n",
    "\n",
    "words = cvec.get_feature_names()\n",
    "# number of different words\n",
    "print(len(words))\n",
    "a = X.sum(axis=0)\n",
    "pd.DataFrame(a, columns=words).transpose().sort_values(by=0, ascending=False)[:20]"
   ]
  },
  {
   "cell_type": "markdown",
   "metadata": {},
   "source": [
    "reduced word count from 97470 to 97165"
   ]
  },
  {
   "cell_type": "code",
   "execution_count": 55,
   "metadata": {},
   "outputs": [],
   "source": [
    "X = df.review\n",
    "y = df.helpful\n",
    "\n",
    "X_train, X_test, y_train, y_test = train_test_split(X, y, test_size=.02, stratify = y, random_state=1)"
   ]
  },
  {
   "cell_type": "code",
   "execution_count": 56,
   "metadata": {},
   "outputs": [],
   "source": [
    "cvec = CountVectorizer(lowercase=False, ngram_range=(1, 1)) \n",
    "#capitalisation etc could be important, can change ngrams later\n",
    "\n",
    "X_train = cvec.fit_transform(X_train)\n",
    "X_test = cvec.transform(X_test)"
   ]
  },
  {
   "cell_type": "markdown",
   "metadata": {},
   "source": [
    "<b>Default model with no stop words</b>"
   ]
  },
  {
   "cell_type": "code",
   "execution_count": 23,
   "metadata": {},
   "outputs": [
    {
     "name": "stdout",
     "output_type": "stream",
     "text": [
      "Cross Val Score:  0.6393278567241915\n",
      "Training Score:  0.8388831933108765\n",
      "Test Score:  0.6366601435094585\n"
     ]
    }
   ],
   "source": [
    "X = df.review\n",
    "y = df.helpful\n",
    "\n",
    "X_train, X_test, y_train, y_test = train_test_split(X, y, test_size=.02, stratify = y, random_state=1)\n",
    "\n",
    "cvec = CountVectorizer(lowercase=False, stop_words = 'english', ngram_range=(1, 1)) \n",
    "#capitalisation etc could be important, can change ngrams later\n",
    "\n",
    "X_train = cvec.fit_transform(X_train)\n",
    "X_test = cvec.transform(X_test)\n",
    "\n",
    "# Import and fit our logistic regression and test it, too\n",
    "from sklearn.linear_model import LogisticRegression\n",
    "\n",
    "lr = LogisticRegression(max_iter=1000, solver='newton-cg')\n",
    "lr.fit(X_train, y_train)\n",
    "\n",
    "# save the model to disk\n",
    "#joblib.dump(lr, 'data/models/logreg/def_model')\n",
    "            \n",
    "print('Cross Val Score: ', cross_val_score(lr, X_train, y_train, cv=5).mean())\n",
    "print('Training Score: ', lr.score(X_train, y_train))\n",
    "print('Test Score: ', lr.score(X_test, y_test))\n",
    "\n"
   ]
  },
  {
   "cell_type": "code",
   "execution_count": 24,
   "metadata": {},
   "outputs": [],
   "source": [
    "predictions_train = lr.predict(X_train)\n",
    "predictions_test = lr.predict(X_test)"
   ]
  },
  {
   "cell_type": "code",
   "execution_count": 28,
   "metadata": {},
   "outputs": [
    {
     "ename": "NameError",
     "evalue": "name 'plt' is not defined",
     "output_type": "error",
     "traceback": [
      "\u001b[0;31m---------------------------------------------------------------------------\u001b[0m",
      "\u001b[0;31mNameError\u001b[0m                                 Traceback (most recent call last)",
      "\u001b[0;32m<ipython-input-28-e33a38aad407>\u001b[0m in \u001b[0;36m<module>\u001b[0;34m\u001b[0m\n\u001b[1;32m      1\u001b[0m \u001b[0mskplt\u001b[0m\u001b[0;34m.\u001b[0m\u001b[0mmetrics\u001b[0m\u001b[0;34m.\u001b[0m\u001b[0mplot_confusion_matrix\u001b[0m\u001b[0;34m(\u001b[0m\u001b[0my_train\u001b[0m\u001b[0;34m,\u001b[0m \u001b[0mpredictions_train\u001b[0m\u001b[0;34m,\u001b[0m \u001b[0mlabels\u001b[0m\u001b[0;34m=\u001b[0m\u001b[0;34m[\u001b[0m\u001b[0;34m'helpful'\u001b[0m\u001b[0;34m,\u001b[0m \u001b[0;34m'not-helpful'\u001b[0m\u001b[0;34m]\u001b[0m\u001b[0;34m,\u001b[0m \u001b[0mfigsize\u001b[0m\u001b[0;34m=\u001b[0m\u001b[0;34m(\u001b[0m\u001b[0;36m6\u001b[0m\u001b[0;34m,\u001b[0m\u001b[0;36m6\u001b[0m\u001b[0;34m)\u001b[0m\u001b[0;34m)\u001b[0m\u001b[0;34m\u001b[0m\u001b[0;34m\u001b[0m\u001b[0m\n\u001b[0;32m----> 2\u001b[0;31m \u001b[0mplt\u001b[0m\u001b[0;34m.\u001b[0m\u001b[0mshow\u001b[0m\u001b[0;34m(\u001b[0m\u001b[0;34m)\u001b[0m\u001b[0;34m\u001b[0m\u001b[0;34m\u001b[0m\u001b[0m\n\u001b[0m",
      "\u001b[0;31mNameError\u001b[0m: name 'plt' is not defined"
     ]
    },
    {
     "data": {
      "image/png": "[encoded data removed]",
      "text/plain": [
       "<Figure size 432x432 with 2 Axes>"
      ]
     },
     "metadata": {
      "needs_background": "light"
     },
     "output_type": "display_data"
    }
   ],
   "source": [
    "skplt.metrics.plot_confusion_matrix(y_train, predictions_train, labels=['helpful', 'not-helpful'], figsize=(6,6))\n",
    "plt.show()"
   ]
  },
  {
   "cell_type": "markdown",
   "metadata": {},
   "source": [
    "Let's look at the features our classifier is using to make decisions."
   ]
  },
  {
   "cell_type": "code",
   "execution_count": 29,
   "metadata": {},
   "outputs": [],
   "source": [
    "def get_most_important_features(vectorizer, model, n=5):\n",
    "    index_to_word = {v:k for k,v in vectorizer.vocabulary_.items()}\n",
    "    \n",
    "    # loop for each class\n",
    "    classes ={}\n",
    "    for class_index in range(model.coef_.shape[0]):\n",
    "        word_importances = [(el, index_to_word[i]) for i,el in enumerate(model.coef_[class_index])]\n",
    "        sorted_coeff = sorted(word_importances, key = lambda x : x[0], reverse=True)\n",
    "        tops = sorted(sorted_coeff[:n], key = lambda x : x[0])\n",
    "        bottom = sorted_coeff[-n:]\n",
    "        classes[class_index] = {\n",
    "            'tops':tops,\n",
    "            'bottom':bottom\n",
    "        }\n",
    "    return classes\n"
   ]
  },
  {
   "cell_type": "code",
   "execution_count": 30,
   "metadata": {},
   "outputs": [],
   "source": [
    "importance = get_most_important_features(cvec, lr, 10)"
   ]
  },
  {
   "cell_type": "code",
   "execution_count": 36,
   "metadata": {},
   "outputs": [
    {
     "data": {
      "image/png": "[encoded data removed]",
      "text/plain": [
       "<Figure size 720x720 with 2 Axes>"
      ]
     },
     "metadata": {
      "needs_background": "light"
     },
     "output_type": "display_data"
    }
   ],
   "source": [
    "def plot_important_words(top_scores, top_words, bottom_scores, bottom_words, name):\n",
    "    y_pos = np.arange(len(top_words))\n",
    "    top_pairs = [(a,b) for a,b in zip(top_words, top_scores)]\n",
    "    top_pairs = sorted(top_pairs, key=lambda x: x[1])\n",
    "    \n",
    "    bottom_pairs = [(a,b) for a,b in zip(bottom_words, bottom_scores)]\n",
    "    bottom_pairs = sorted(bottom_pairs, key=lambda x: x[1], reverse=True)\n",
    "    \n",
    "    top_words = [a[0] for a in top_pairs]\n",
    "    top_scores = [a[1] for a in top_pairs]\n",
    "    \n",
    "    bottom_words = [a[0] for a in bottom_pairs]\n",
    "    bottom_scores = [a[1] for a in bottom_pairs]\n",
    "    \n",
    "    fig = plt.figure(figsize=(10, 10))  \n",
    "\n",
    "    plt.subplot(121)\n",
    "    plt.barh(y_pos,bottom_scores, align='center', alpha=0.5)\n",
    "    plt.title('Helpful', fontsize=20)\n",
    "    plt.yticks(y_pos, bottom_words, fontsize=14)\n",
    "    plt.suptitle('Key words', fontsize=16)\n",
    "    plt.xlabel('Importance', fontsize=20)\n",
    "    \n",
    "    plt.subplot(122)\n",
    "    plt.barh(y_pos,top_scores, align='center', alpha=0.5)\n",
    "    plt.title('Not-helpful', fontsize=20)\n",
    "    plt.yticks(y_pos, top_words, fontsize=14)\n",
    "    plt.suptitle(name, fontsize=16)\n",
    "    plt.xlabel('Importance', fontsize=20)\n",
    "    \n",
    "    plt.subplots_adjust(wspace=0.8)\n",
    "    plt.show()\n",
    "\n",
    "top_scores = [a[0] for a in importance[0]['tops']]\n",
    "top_words = [a[1] for a in importance[0]['tops']]\n",
    "bottom_scores = [a[0] for a in importance[0]['bottom']]\n",
    "bottom_words = [a[1] for a in importance[0]['bottom']]\n",
    "\n",
    "plot_important_words(top_scores, top_words, bottom_scores, bottom_words, \"Most important words for relevance\")"
   ]
  },
  {
   "cell_type": "code",
   "execution_count": 33,
   "metadata": {},
   "outputs": [
    {
     "data": {
      "text/plain": [
       "{0: {'tops': [(1.546139371463455, 'spoken'),\n",
       "   (1.561396590635749, 'TPWS'),\n",
       "   (1.580943906210339, 'TJBs'),\n",
       "   (1.6109537133377898, 'thankfully'),\n",
       "   (1.637284486299655, 'banned'),\n",
       "   (1.6391085018688396, 'Playthrough'),\n",
       "   (1.6428166420879509, 'infuriating'),\n",
       "   (1.8062992034759755, 'POE'),\n",
       "   (1.8989337021897885, 'YET'),\n",
       "   (1.9990691192933874, 'PAID')],\n",
       "  'bottom': [(-1.5085864466651053, 'customized'),\n",
       "   (-1.5571320420444095, 'Equip'),\n",
       "   (-1.5597917677906026, 'PLTZKn1hLlcQM52CqFDEKr57X_lyxeda2P'),\n",
       "   (-1.5703652182202223, 'Tools'),\n",
       "   (-1.5826605499870319, 'Hinata'),\n",
       "   (-1.5838070169195622, 'apartment'),\n",
       "   (-1.5894183973664562, 'scania'),\n",
       "   (-1.6281780092375084, 'kanye'),\n",
       "   (-1.7251755365441988, 'cargos'),\n",
       "   (-1.7601925848411568, 'Friends')]}}"
      ]
     },
     "execution_count": 33,
     "metadata": {},
     "output_type": "execute_result"
    }
   ],
   "source": [
    "importance"
   ]
  },
  {
   "cell_type": "code",
   "execution_count": null,
   "metadata": {},
   "outputs": [],
   "source": [
    "PLTZKn1hLlcQM52CqFDEKr57X_lyxeda2P - part of a youtube link"
   ]
  },
  {
   "cell_type": "code",
   "execution_count": 39,
   "metadata": {},
   "outputs": [],
   "source": [
    "color_mapper = {label:idx for idx,label in enumerate(set(y_train))}"
   ]
  },
  {
   "cell_type": "code",
   "execution_count": 63,
   "metadata": {},
   "outputs": [
    {
     "data": {
      "text/plain": [
       "'helpful'"
      ]
     },
     "execution_count": 63,
     "metadata": {},
     "output_type": "execute_result"
    }
   ],
   "source": [
    "y_train[0]"
   ]
  },
  {
   "cell_type": "code",
   "execution_count": 64,
   "metadata": {},
   "outputs": [],
   "source": [
    "new_y_train = [1 if x=='helpful' else 0 for x in y_train]"
   ]
  },
  {
   "cell_type": "markdown",
   "metadata": {},
   "source": [
    "<b>Log model with params with no stop words</b>"
   ]
  },
  {
   "cell_type": "code",
   "execution_count": 72,
   "metadata": {},
   "outputs": [
    {
     "name": "stdout",
     "output_type": "stream",
     "text": [
      "Cross Val Score:  0.6390748997203408\n",
      "Training Score:  0.8403477705140666\n",
      "Test Score:  0.6373124592302675\n"
     ]
    },
    {
     "data": {
      "text/plain": [
       "['data/models/logreg/with_params_model']"
      ]
     },
     "execution_count": 72,
     "metadata": {},
     "output_type": "execute_result"
    }
   ],
   "source": [
    "X = df.review\n",
    "y = df.helpful\n",
    "\n",
    "X_train, X_test, y_train, y_test = train_test_split(X, y, test_size=.02, stratify = y, random_state=1)\n",
    "\n",
    "cvec = CountVectorizer(lowercase=False, ngram_range=(1, 1)) \n",
    "#capitalisation etc could be important, can change ngrams later\n",
    "\n",
    "X_train = cvec.fit_transform(X_train)\n",
    "X_test = cvec.transform(X_test)\n",
    "\n",
    "# Import and fit our logistic regression and test it, too\n",
    "\n",
    "lr = LogisticRegression(solver='lbfgs', multi_class='ovr', max_iter=1000)\n",
    "lr.fit(X_train, y_train)\n",
    "print('Cross Val Score: ', cross_val_score(lr, X_train, y_train, cv=5).mean())\n",
    "print('Training Score: ', lr.score(X_train, y_train))\n",
    "print('Test Score: ', lr.score(X_test, y_test))\n",
    "\n",
    "# save the model to disk\n",
    "filename = 'data/models/logreg/with_params_model'\n",
    "joblib.dump(lr, filename)"
   ]
  },
  {
   "cell_type": "markdown",
   "metadata": {},
   "source": [
    "<b>Logreg model with stop words</b>"
   ]
  },
  {
   "cell_type": "code",
   "execution_count": 22,
   "metadata": {},
   "outputs": [
    {
     "name": "stderr",
     "output_type": "stream",
     "text": [
      "[Parallel(n_jobs=-1)]: Using backend LokyBackend with 8 concurrent workers.\n",
      "[Parallel(n_jobs=-1)]: Done   1 out of   1 | elapsed:  6.0min finished\n",
      "[Parallel(n_jobs=-1)]: Using backend LokyBackend with 8 concurrent workers.\n",
      "[Parallel(n_jobs=-1)]: Done   1 out of   1 | elapsed:  4.9min finished\n",
      "[Parallel(n_jobs=-1)]: Using backend LokyBackend with 8 concurrent workers.\n",
      "[Parallel(n_jobs=-1)]: Done   1 out of   1 | elapsed:  5.5min finished\n",
      "[Parallel(n_jobs=-1)]: Using backend LokyBackend with 8 concurrent workers.\n",
      "[Parallel(n_jobs=-1)]: Done   1 out of   1 | elapsed:  5.4min finished\n",
      "[Parallel(n_jobs=-1)]: Using backend LokyBackend with 8 concurrent workers.\n",
      "[Parallel(n_jobs=-1)]: Done   1 out of   1 | elapsed:  5.0min finished\n",
      "[Parallel(n_jobs=-1)]: Using backend LokyBackend with 8 concurrent workers.\n",
      "[Parallel(n_jobs=-1)]: Done   1 out of   1 | elapsed:  3.4min finished\n"
     ]
    },
    {
     "name": "stdout",
     "output_type": "stream",
     "text": [
      "Cross Val Score:  0.6554782085535583\n",
      "Training Score:  0.9770993382773909\n",
      "Test Score:  0.6503587736464449\n"
     ]
    }
   ],
   "source": [
    "X = df.review\n",
    "y = df.helpful\n",
    "\n",
    "X_train, X_test, y_train, y_test = train_test_split(X, y, test_size=.02, stratify = y, random_state=1)\n",
    "\n",
    "cvec = CountVectorizer(lowercase=False, tokenizer = keep_punc_token, stop_words = 'english', ngram_range=(1, 3)) \n",
    "#capitalisation etc could be important, can change ngrams later\n",
    "\n",
    "X_train = cvec.fit_transform(X_train)\n",
    "X_test = cvec.transform(X_test)\n",
    "\n",
    "lr = LogisticRegression(solver='lbfgs', multi_class='ovr', max_iter=5000, verbose=3, n_jobs = -1)\n",
    "lr.fit(X_train, y_train)\n",
    "print('Cross Val Score: ', cross_val_score(lr, X_train, y_train, cv=5).mean())\n",
    "print('Training Score: ', lr.score(X_train, y_train))\n",
    "print('Test Score: ', lr.score(X_test, y_test))\n",
    "\n",
    "# save the model to disk\n",
    "#filename = 'data/models/logreg/with_stopwords_n1'\n",
    "#joblib.dump(lr, filename)"
   ]
  },
  {
   "cell_type": "code",
   "execution_count": null,
   "metadata": {},
   "outputs": [],
   "source": [
    "Cross Val Score:  0.6393012291113569\n",
    "Training Score:  0.838923136325509\n",
    "Test Score:  0.6366601435094585"
   ]
  },
  {
   "cell_type": "code",
   "execution_count": 12,
   "metadata": {},
   "outputs": [],
   "source": [
    "t = joblib.load('data/models/logreg/def_model')"
   ]
  },
  {
   "cell_type": "markdown",
   "metadata": {},
   "source": [
    "<b>Logreg model with stop words n_grams = (1,2)</b>"
   ]
  },
  {
   "cell_type": "code",
   "execution_count": 75,
   "metadata": {},
   "outputs": [
    {
     "name": "stdout",
     "output_type": "stream",
     "text": [
      "Cross Val Score:  0.6554648974061796\n",
      "Training Score:  0.9644374026389019\n",
      "Test Score:  0.6549249836921069\n"
     ]
    },
    {
     "data": {
      "text/plain": [
       "['data/models/logreg/with_stopwords_n2']"
      ]
     },
     "execution_count": 75,
     "metadata": {},
     "output_type": "execute_result"
    }
   ],
   "source": [
    "X = df.review\n",
    "y = df.helpful\n",
    "\n",
    "X_train, X_test, y_train, y_test = train_test_split(X, y, test_size=.02, stratify = y, random_state=1)\n",
    "\n",
    "cvec = CountVectorizer(lowercase=False, stop_words = 'english', ngram_range=(1, 2)) \n",
    "#capitalisation etc could be important, can change ngrams later\n",
    "\n",
    "X_train = cvec.fit_transform(X_train)\n",
    "X_test = cvec.transform(X_test)\n",
    "\n",
    "lr = LogisticRegression(solver='lbfgs', multi_class='ovr', max_iter=1000)\n",
    "lr.fit(X_train, y_train)\n",
    "print('Cross Val Score: ', cross_val_score(lr, X_train, y_train, cv=5).mean())\n",
    "print('Training Score: ', lr.score(X_train, y_train))\n",
    "print('Test Score: ', lr.score(X_test, y_test))\n",
    "\n",
    "# save the model to disk\n",
    "filename = 'data/models/logreg/with_stopwords_n2'\n",
    "joblib.dump(lr, filename)"
   ]
  },
  {
   "cell_type": "markdown",
   "metadata": {},
   "source": [
    "<b>Logreg model with stop words n_grams = (1,3)</b>"
   ]
  },
  {
   "cell_type": "code",
   "execution_count": 76,
   "metadata": {},
   "outputs": [
    {
     "name": "stdout",
     "output_type": "stream",
     "text": [
      "Cross Val Score:  0.6591263395317031\n",
      "Training Score:  0.9697098805703862\n",
      "Test Score:  0.6484018264840182\n"
     ]
    },
    {
     "data": {
      "text/plain": [
       "['data/models/logreg/with_stopwords_n3']"
      ]
     },
     "execution_count": 76,
     "metadata": {},
     "output_type": "execute_result"
    }
   ],
   "source": [
    "X = df.review\n",
    "y = df.helpful\n",
    "\n",
    "X_train, X_test, y_train, y_test = train_test_split(X, y, test_size=.02, stratify = y, random_state=1)\n",
    "cvec = CountVectorizer(lowercase=False, stop_words = 'english', ngram_range=(1, 3)) \n",
    "#capitalisation etc could be important, can change ngrams later\n",
    "\n",
    "X_train = cvec.fit_transform(X_train)\n",
    "X_test = cvec.transform(X_test)\n",
    "\n",
    "lr = LogisticRegression(solver='lbfgs', multi_class='ovr', max_iter=1000)\n",
    "lr.fit(X_train, y_train)\n",
    "print('Cross Val Score: ', cross_val_score(lr, X_train, y_train, cv=5).mean())\n",
    "print('Training Score: ', lr.score(X_train, y_train))\n",
    "print('Test Score: ', lr.score(X_test, y_test))\n",
    "\n",
    "# save the model to disk\n",
    "filename = 'data/models/logreg/with_stopwords_n3'\n",
    "joblib.dump(lr, filename)"
   ]
  },
  {
   "cell_type": "code",
   "execution_count": null,
   "metadata": {},
   "outputs": [],
   "source": []
  }
 ],
 "metadata": {
  "kernelspec": {
   "display_name": "Python 3",
   "language": "python",
   "name": "python3"
  },
  "language_info": {
   "codemirror_mode": {
    "name": "ipython",
    "version": 3
   },
   "file_extension": ".py",
   "mimetype": "text/x-python",
   "name": "python",
   "nbconvert_exporter": "python",
   "pygments_lexer": "ipython3",
   "version": "3.8.5"
  }
 },
 "nbformat": 4,
 "nbformat_minor": 4
}
